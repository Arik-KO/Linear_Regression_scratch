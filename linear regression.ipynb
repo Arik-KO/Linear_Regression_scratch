{
 "cells": [
  {
   "cell_type": "code",
   "execution_count": 28,
   "id": "0822bd6e",
   "metadata": {},
   "outputs": [],
   "source": [
    "import numpy as np\n",
    "import pandas as pd\n",
    "import matplotlib.pyplot as plt\n",
    "import copy\n",
    "import math"
   ]
  },
  {
   "cell_type": "code",
   "execution_count": 29,
   "id": "f538bac5",
   "metadata": {},
   "outputs": [],
   "source": [
    "data = pd.read_csv(r'C:\\Users\\Administrator\\Desktop\\Machine Learning\\udemy st ML\\1. ST Academy - Crash course and Regression files\\House_price.csv',header = 0)"
   ]
  },
  {
   "cell_type": "code",
   "execution_count": 41,
   "id": "32292bcf",
   "metadata": {},
   "outputs": [],
   "source": [
    "x_train = np.array(data.room_num.values)\n",
    "x = (x_train/np.max(x_train))\n",
    "y_train = np.array(data.price.values)\n",
    "y = (y_train / np.max(y_train))"
   ]
  },
  {
   "cell_type": "code",
   "execution_count": 42,
   "id": "ba53442f",
   "metadata": {},
   "outputs": [
    {
     "name": "stdout",
     "output_type": "stream",
     "text": [
      "type of x_train is: <class 'numpy.ndarray'>\n",
      "first five elements of x_train: \n",
      " [6.575 6.421 7.185 6.998 7.147]\n"
     ]
    }
   ],
   "source": [
    "# check the input\n",
    "print('type of x_train is:',type(x_train))\n",
    "print('first five elements of x_train: \\n', x_train[:5])"
   ]
  },
  {
   "cell_type": "code",
   "execution_count": 43,
   "id": "98baf155",
   "metadata": {},
   "outputs": [
    {
     "name": "stdout",
     "output_type": "stream",
     "text": [
      "type of y_train is: <class 'numpy.ndarray'>\n",
      "first five elements are:\n",
      " [24.  21.6 34.7 33.4 36.2]\n"
     ]
    }
   ],
   "source": [
    "#check the output\n",
    "print('type of y_train is:' ,type(y_train))\n",
    "print('first five elements are:\\n',y_train[:5])"
   ]
  },
  {
   "cell_type": "code",
   "execution_count": 44,
   "id": "de077b66",
   "metadata": {},
   "outputs": [
    {
     "name": "stdout",
     "output_type": "stream",
     "text": [
      "shape of x_train is: (506,)\n",
      "shape of y_train is: (506,)\n",
      "number of training data set,m: 506\n"
     ]
    }
   ],
   "source": [
    "#shape \n",
    "print('shape of x_train is:',x_train.shape)\n",
    "print('shape of y_train is:',y_train.shape)\n",
    "print('number of training data set,m:',x_train.shape[0])\n"
   ]
  },
  {
   "cell_type": "code",
   "execution_count": 45,
   "id": "16b6f3c1",
   "metadata": {},
   "outputs": [
    {
     "data": {
      "image/png": "[encoded data removed]",
      "text/plain": [
       "<Figure size 432x288 with 1 Axes>"
      ]
     },
     "metadata": {
      "needs_background": "light"
     },
     "output_type": "display_data"
    }
   ],
   "source": [
    "#visualize the data\n",
    "plt.scatter(x_train,y_train,marker='x',c='r')\n",
    "plt.xlabel('room_num')\n",
    "plt.ylabel('Price')\n",
    "#plt.title('profits vs population per city ')\n",
    "plt.show()"
   ]
  },
  {
   "cell_type": "code",
   "execution_count": 46,
   "id": "5bed3ec2",
   "metadata": {},
   "outputs": [],
   "source": [
    "def compute_cost(x,y,w,b):\n",
    "    m =x.shape[0]\n",
    "    total_cost = 0\n",
    "    \n",
    "    #calculate total cost\n",
    "    f = np.dot(w,x)+b\n",
    "    total_cost = np.sum((f-y)**2)\n",
    "    total_cost /= 2*m\n",
    "    \n",
    "    \n",
    "    return total_cost"
   ]
  },
  {
   "cell_type": "code",
   "execution_count": 47,
   "id": "180b1806",
   "metadata": {},
   "outputs": [],
   "source": [
    "def compute_gradient(x,y,w,b):\n",
    "    m=x.shape[0]\n",
    "    dw = 0\n",
    "    db = 0\n",
    "    \n",
    "    f = np.dot(w,x)+b\n",
    "    dw = np.sum((f-y)*x)\n",
    "    db = np.sum(f-y)\n",
    "    \n",
    "    dw /= m\n",
    "    db /= m\n",
    "    \n",
    "    return dw,db"
   ]
  },
  {
   "cell_type": "code",
   "execution_count": 48,
   "id": "6f59467a",
   "metadata": {},
   "outputs": [],
   "source": [
    "def gradient_descent(x,y,w_in,b_in,cost_function,gradient_function,alpha,num_iter):\n",
    "    m = len(x)\n",
    "    j_history = []\n",
    "    w_history = []\n",
    "    \n",
    "    w = copy.deepcopy(w_in)\n",
    "    b = b_in\n",
    "    \n",
    "    for i in range(num_iter):\n",
    "        dw, db = gradient_function(x,y,w,b)\n",
    "        \n",
    "        w = w - alpha*dw\n",
    "        b = b - alpha*db\n",
    "        \n",
    "        if i < 10000:\n",
    "            cost = cost_function(x,y,w,b)\n",
    "            j_history.append(cost)\n",
    "        \n",
    "        if i% math.ceil(num_iter/10) == 0:\n",
    "            w_history.append(w)\n",
    "            print(f\"Iteration {i:4}: Cost {float(j_history[-1]):8.2f}   \")\n",
    "        \n",
    "    return w, b, j_history, w_history\n",
    "    "
   ]
  },
  {
   "cell_type": "code",
   "execution_count": 82,
   "id": "bded1407",
   "metadata": {},
   "outputs": [
    {
     "name": "stdout",
     "output_type": "stream",
     "text": [
      "Iteration    0: Cost     0.11   \n",
      "Iteration 1500: Cost     0.01   \n",
      "Iteration 3000: Cost     0.01   \n",
      "Iteration 4500: Cost     0.01   \n",
      "Iteration 6000: Cost     0.01   \n",
      "Iteration 7500: Cost     0.01   \n",
      "Iteration 9000: Cost     0.01   \n",
      "Iteration 10500: Cost     0.01   \n",
      "Iteration 12000: Cost     0.01   \n",
      "Iteration 13500: Cost     0.01   \n",
      "w,b found by gradient descent: 1.3910073225952508 -0.5444641677835976\n"
     ]
    }
   ],
   "source": [
    "initial_w = 0.\n",
    "initial_b = 0.\n",
    "\n",
    "# some gradient descent settings\n",
    "iterations = 15000\n",
    "alpha = 0.03\n",
    "\n",
    "w,b,_,_ = gradient_descent(x ,y, initial_w, initial_b, \n",
    "                     compute_cost, compute_gradient, alpha, iterations)\n",
    "print(\"w,b found by gradient descent:\", w, b)"
   ]
  },
  {
   "cell_type": "code",
   "execution_count": 83,
   "id": "b0af62c3",
   "metadata": {},
   "outputs": [],
   "source": [
    "prediction = np.dot(w,x) + b"
   ]
  },
  {
   "cell_type": "code",
   "execution_count": 84,
   "id": "5bc6f79f",
   "metadata": {},
   "outputs": [
    {
     "data": {
      "image/png": "[encoded data removed]",
      "text/plain": [
       "<Figure size 432x288 with 1 Axes>"
      ]
     },
     "metadata": {
      "needs_background": "light"
     },
     "output_type": "display_data"
    }
   ],
   "source": [
    "plt.plot(x*np.max(x_train),prediction*np.max(y_train),c='b')\n",
    "plt.scatter(x_train,y_train,marker='x',c='r')\n",
    "plt.xlabel('room_num')\n",
    "plt.ylabel('Price')\n",
    "#plt.title('profits vs population per city ')\n",
    "plt.show()"
   ]
  },
  {
   "cell_type": "code",
   "execution_count": null,
   "id": "b540bffb",
   "metadata": {},
   "outputs": [],
   "source": []
  }
 ],
 "metadata": {
  "kernelspec": {
   "display_name": "Python 3 (ipykernel)",
   "language": "python",
   "name": "python3"
  },
  "language_info": {
   "codemirror_mode": {
    "name": "ipython",
    "version": 3
   },
   "file_extension": ".py",
   "mimetype": "text/x-python",
   "name": "python",
   "nbconvert_exporter": "python",
   "pygments_lexer": "ipython3",
   "version": "3.8.2"
  }
 },
 "nbformat": 4,
 "nbformat_minor": 5
}
