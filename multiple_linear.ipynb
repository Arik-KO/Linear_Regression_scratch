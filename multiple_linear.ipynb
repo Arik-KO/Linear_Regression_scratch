{
 "cells": [
  {
   "cell_type": "code",
   "execution_count": 1,
   "id": "0e09e60e",
   "metadata": {},
   "outputs": [],
   "source": [
    "import numpy as np\n",
    "import pandas as pd \n",
    "import matplotlib.pyplot as plt\n"
   ]
  },
  {
   "cell_type": "code",
   "execution_count": 2,
   "id": "fc57f4bf",
   "metadata": {},
   "outputs": [],
   "source": [
    "data = pd.read_csv('house.csv')"
   ]
  },
  {
   "cell_type": "code",
   "execution_count": 3,
   "id": "e399cef7",
   "metadata": {},
   "outputs": [],
   "source": [
    "data.head\n",
    "x1 = data.x1.values\n",
    "x2 = data.x2.values\n",
    "x3 = data.x3.values\n",
    "x4 = data.x4.values\n",
    "y = data.y.values\n",
    "x = np.column_stack((x1,x2,x3,x4))"
   ]
  },
  {
   "cell_type": "code",
   "execution_count": 4,
   "id": "945d0dd6",
   "metadata": {},
   "outputs": [],
   "source": [
    "m,n = x.shape\n",
    "b = 0\n",
    "w = np.zeros(n)"
   ]
  },
  {
   "cell_type": "code",
   "execution_count": 5,
   "id": "1a2606e2",
   "metadata": {},
   "outputs": [],
   "source": [
    "    \n",
    "    A = np.dot(x,w.T)+b\n",
    "    dz = A - y\n",
    "    dw = np.dot(dz,x)\n",
    "    db = np.sum(dz)\n",
    "    dw /= m\n",
    "    db /= m\n",
    "    alpha = 0.05\n",
    "    w = w - alpha*dw\n",
    "    b = b - alpha*db"
   ]
  },
  {
   "cell_type": "code",
   "execution_count": 6,
   "id": "56e0a321",
   "metadata": {},
   "outputs": [
    {
     "data": {
      "text/plain": [
       "array([2.4140225e+04, 5.3712500e+01, 2.1650000e+01, 5.7297500e+02])"
      ]
     },
     "execution_count": 6,
     "metadata": {},
     "output_type": "execute_result"
    }
   ],
   "source": [
    "w"
   ]
  },
  {
   "cell_type": "code",
   "execution_count": 7,
   "id": "7e6ac381",
   "metadata": {},
   "outputs": [
    {
     "data": {
      "text/plain": [
       "14.8125"
      ]
     },
     "execution_count": 7,
     "metadata": {},
     "output_type": "execute_result"
    }
   ],
   "source": [
    "b"
   ]
  },
  {
   "cell_type": "code",
   "execution_count": 8,
   "id": "9d494dd7",
   "metadata": {},
   "outputs": [],
   "source": [
    "prediction = np.dot(x,w.T)+b"
   ]
  },
  {
   "cell_type": "code",
   "execution_count": 9,
   "id": "cc6c47f8",
   "metadata": {},
   "outputs": [
    {
     "data": {
      "text/plain": [
       "array([50817122.3       , 34205696.85      , 37048513.65000001,\n",
       "       20588242.6875    ])"
      ]
     },
     "execution_count": 9,
     "metadata": {},
     "output_type": "execute_result"
    }
   ],
   "source": [
    "prediction"
   ]
  },
  {
   "cell_type": "code",
   "execution_count": 10,
   "id": "635a4f8c",
   "metadata": {},
   "outputs": [
    {
     "data": {
      "text/plain": [
       "(4, 4)"
      ]
     },
     "execution_count": 10,
     "metadata": {},
     "output_type": "execute_result"
    }
   ],
   "source": [
    "x.shape"
   ]
  },
  {
   "cell_type": "code",
   "execution_count": 11,
   "id": "230bbf44-67f2-4212-ae6b-0917bb2c540d",
   "metadata": {},
   "outputs": [
    {
     "data": {
      "text/plain": [
       "(4,)"
      ]
     },
     "execution_count": 11,
     "metadata": {},
     "output_type": "execute_result"
    }
   ],
   "source": [
    "y.shape"
   ]
  },
  {
   "cell_type": "code",
   "execution_count": 12,
   "id": "cb451e89-60a7-45f5-bba1-29fc794a1995",
   "metadata": {},
   "outputs": [
    {
     "data": {
      "text/plain": [
       "(4,)"
      ]
     },
     "execution_count": 12,
     "metadata": {},
     "output_type": "execute_result"
    }
   ],
   "source": [
    "w.shape"
   ]
  },
  {
   "cell_type": "code",
   "execution_count": null,
   "id": "779456c8-ac00-403d-b34d-0ba6cd8e9a42",
   "metadata": {},
   "outputs": [],
   "source": []
  }
 ],
 "metadata": {
  "kernelspec": {
   "display_name": "Python 3 (ipykernel)",
   "language": "python",
   "name": "python3"
  },
  "language_info": {
   "codemirror_mode": {
    "name": "ipython",
    "version": 3
   },
   "file_extension": ".py",
   "mimetype": "text/x-python",
   "name": "python",
   "nbconvert_exporter": "python",
   "pygments_lexer": "ipython3",
   "version": "3.11.4"
  }
 },
 "nbformat": 4,
 "nbformat_minor": 5
}
